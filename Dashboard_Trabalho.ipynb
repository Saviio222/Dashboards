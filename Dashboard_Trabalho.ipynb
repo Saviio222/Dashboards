{
 "cells": [
  {
   "cell_type": "code",
   "execution_count": 115,
   "id": "3b2becc0",
   "metadata": {},
   "outputs": [],
   "source": [
    "import numpy as np # linear algebra\n",
    "import pandas as pd # data processing, CSV file I/O (e.g. pd.read_csv)\n",
    "import seaborn as sns\n",
    "import matplotlib.pyplot as plt\n",
    "import ipywidgets as widgets\n",
    "from IPython.display import display"
   ]
  },
  {
   "cell_type": "code",
   "execution_count": 116,
   "id": "29274059",
   "metadata": {},
   "outputs": [
    {
     "data": {
      "text/html": [
       "<div>\n",
       "<style scoped>\n",
       "    .dataframe tbody tr th:only-of-type {\n",
       "        vertical-align: middle;\n",
       "    }\n",
       "\n",
       "    .dataframe tbody tr th {\n",
       "        vertical-align: top;\n",
       "    }\n",
       "\n",
       "    .dataframe thead th {\n",
       "        text-align: right;\n",
       "    }\n",
       "</style>\n",
       "<table border=\"1\" class=\"dataframe\">\n",
       "  <thead>\n",
       "    <tr style=\"text-align: right;\">\n",
       "      <th></th>\n",
       "      <th>Unnamed: 0</th>\n",
       "      <th>ID_Pedido</th>\n",
       "      <th>Data_Pedido</th>\n",
       "      <th>ID_Representante</th>\n",
       "      <th>Nome_Representante</th>\n",
       "      <th>Regional</th>\n",
       "      <th>ID_Produto</th>\n",
       "      <th>Nome_Produto</th>\n",
       "      <th>Valor_Produto</th>\n",
       "      <th>Quantidade_Vendida</th>\n",
       "      <th>Valor_Total_Venda</th>\n",
       "      <th>Nome_Cliente</th>\n",
       "      <th>Cidade_Cliente</th>\n",
       "      <th>Estado_Cliente</th>\n",
       "    </tr>\n",
       "  </thead>\n",
       "  <tbody>\n",
       "    <tr>\n",
       "      <th>0</th>\n",
       "      <td>NaN</td>\n",
       "      <td>10001</td>\n",
       "      <td>1-01-20</td>\n",
       "      <td>1004</td>\n",
       "      <td>Isabela Carolina</td>\n",
       "      <td>Sudeste</td>\n",
       "      <td>SKU9005</td>\n",
       "      <td>Celular Modelo 3</td>\n",
       "      <td>\"R$\"1800</td>\n",
       "      <td>21</td>\n",
       "      <td>\"R$\"37800</td>\n",
       "      <td>amazon</td>\n",
       "      <td>Rio de Janeiro</td>\n",
       "      <td>RJ</td>\n",
       "    </tr>\n",
       "    <tr>\n",
       "      <th>1</th>\n",
       "      <td>NaN</td>\n",
       "      <td>10002</td>\n",
       "      <td>1-01-20</td>\n",
       "      <td>1004</td>\n",
       "      <td>Isabela Carolina</td>\n",
       "      <td>Sudeste</td>\n",
       "      <td>SKU9005</td>\n",
       "      <td>Celular Modelo 3</td>\n",
       "      <td>\"R$\"1800</td>\n",
       "      <td>57</td>\n",
       "      <td>\"R$\"102600</td>\n",
       "      <td>Shoptime</td>\n",
       "      <td>Betim</td>\n",
       "      <td>MINAS</td>\n",
       "    </tr>\n",
       "    <tr>\n",
       "      <th>2</th>\n",
       "      <td>NaN</td>\n",
       "      <td>10003</td>\n",
       "      <td>1-02-20</td>\n",
       "      <td>1002</td>\n",
       "      <td>Lucas Souza</td>\n",
       "      <td>Sudeste</td>\n",
       "      <td>SKU9011</td>\n",
       "      <td>Notebook Modelo 3</td>\n",
       "      <td>\"R$\"4300</td>\n",
       "      <td>59</td>\n",
       "      <td>\"R$\"253700</td>\n",
       "      <td>Carrefour</td>\n",
       "      <td>Rio de Janeiro</td>\n",
       "      <td>RJ</td>\n",
       "    </tr>\n",
       "    <tr>\n",
       "      <th>3</th>\n",
       "      <td>NaN</td>\n",
       "      <td>10004</td>\n",
       "      <td>1-02-20</td>\n",
       "      <td>1002</td>\n",
       "      <td>Lucas Souza</td>\n",
       "      <td>Sudeste</td>\n",
       "      <td>SKU9011</td>\n",
       "      <td>Notebook Modelo 3</td>\n",
       "      <td>\"R$\"4300</td>\n",
       "      <td>89</td>\n",
       "      <td>\"R$\"382700</td>\n",
       "      <td>Carrefour</td>\n",
       "      <td>Rio de Janeiro</td>\n",
       "      <td>RJ</td>\n",
       "    </tr>\n",
       "    <tr>\n",
       "      <th>4</th>\n",
       "      <td>NaN</td>\n",
       "      <td>10005</td>\n",
       "      <td>1-02-20</td>\n",
       "      <td>1005</td>\n",
       "      <td>Tais Fernandes</td>\n",
       "      <td>Sudeste</td>\n",
       "      <td>SKU9008</td>\n",
       "      <td>Mouse</td>\n",
       "      <td>\"R$\"88</td>\n",
       "      <td>71</td>\n",
       "      <td>\"R$\"6248</td>\n",
       "      <td>Ricardo Eletro</td>\n",
       "      <td>Vitória</td>\n",
       "      <td>ES</td>\n",
       "    </tr>\n",
       "    <tr>\n",
       "      <th>...</th>\n",
       "      <td>...</td>\n",
       "      <td>...</td>\n",
       "      <td>...</td>\n",
       "      <td>...</td>\n",
       "      <td>...</td>\n",
       "      <td>...</td>\n",
       "      <td>...</td>\n",
       "      <td>...</td>\n",
       "      <td>...</td>\n",
       "      <td>...</td>\n",
       "      <td>...</td>\n",
       "      <td>...</td>\n",
       "      <td>...</td>\n",
       "      <td>...</td>\n",
       "    </tr>\n",
       "    <tr>\n",
       "      <th>3206</th>\n",
       "      <td>NaN</td>\n",
       "      <td>200807</td>\n",
       "      <td>12-28-20</td>\n",
       "      <td>1008</td>\n",
       "      <td>Teobaldo Junior</td>\n",
       "      <td>Nordeste</td>\n",
       "      <td>SKU9012</td>\n",
       "      <td>Smart TV</td>\n",
       "      <td>\"R$\"1998</td>\n",
       "      <td>11</td>\n",
       "      <td>\"R$\"21978</td>\n",
       "      <td>amazon</td>\n",
       "      <td>Salvador</td>\n",
       "      <td>BA</td>\n",
       "    </tr>\n",
       "    <tr>\n",
       "      <th>3207</th>\n",
       "      <td>NaN</td>\n",
       "      <td>200808</td>\n",
       "      <td>12-28-20</td>\n",
       "      <td>1008</td>\n",
       "      <td>Teobaldo Junior</td>\n",
       "      <td>Nordeste</td>\n",
       "      <td>SKU9015</td>\n",
       "      <td>Teclado</td>\n",
       "      <td>\"R$\"80</td>\n",
       "      <td>20</td>\n",
       "      <td>\"R$\"1600</td>\n",
       "      <td>Ponto Frio</td>\n",
       "      <td>Salvador</td>\n",
       "      <td>BA</td>\n",
       "    </tr>\n",
       "    <tr>\n",
       "      <th>3208</th>\n",
       "      <td>NaN</td>\n",
       "      <td>200809</td>\n",
       "      <td>12-29-20</td>\n",
       "      <td>1006</td>\n",
       "      <td>Mário Junior</td>\n",
       "      <td>Nordeste</td>\n",
       "      <td>SKU9005</td>\n",
       "      <td>Celular Modelo 3</td>\n",
       "      <td>\"R$\"1800</td>\n",
       "      <td>71</td>\n",
       "      <td>\"R$\"127800</td>\n",
       "      <td>kabum</td>\n",
       "      <td>Fortaleza</td>\n",
       "      <td>CE</td>\n",
       "    </tr>\n",
       "    <tr>\n",
       "      <th>3209</th>\n",
       "      <td>NaN</td>\n",
       "      <td>200810</td>\n",
       "      <td>12-30-20</td>\n",
       "      <td>1001</td>\n",
       "      <td>Maria Silva</td>\n",
       "      <td>Nordeste</td>\n",
       "      <td>SKU9006</td>\n",
       "      <td>E-Reader</td>\n",
       "      <td>\"R$\"250</td>\n",
       "      <td>51</td>\n",
       "      <td>\"R$\"12750</td>\n",
       "      <td>Casas Bahia</td>\n",
       "      <td>João Pessoa</td>\n",
       "      <td>PB</td>\n",
       "    </tr>\n",
       "    <tr>\n",
       "      <th>3210</th>\n",
       "      <td>NaN</td>\n",
       "      <td>200811</td>\n",
       "      <td>12-31-20</td>\n",
       "      <td>1001</td>\n",
       "      <td>Maria Silva</td>\n",
       "      <td>Nordeste</td>\n",
       "      <td>SKU9011</td>\n",
       "      <td>Notebook Modelo 3</td>\n",
       "      <td>\"R$\"4300</td>\n",
       "      <td>41</td>\n",
       "      <td>\"R$\"176300</td>\n",
       "      <td>Casas Bahia</td>\n",
       "      <td>Natal</td>\n",
       "      <td>RN</td>\n",
       "    </tr>\n",
       "  </tbody>\n",
       "</table>\n",
       "<p>3211 rows × 14 columns</p>\n",
       "</div>"
      ],
      "text/plain": [
       "      Unnamed: 0  ID_Pedido Data_Pedido  ID_Representante Nome_Representante  \\\n",
       "0            NaN      10001     1-01-20              1004   Isabela Carolina   \n",
       "1            NaN      10002     1-01-20              1004   Isabela Carolina   \n",
       "2            NaN      10003     1-02-20              1002        Lucas Souza   \n",
       "3            NaN      10004     1-02-20              1002        Lucas Souza   \n",
       "4            NaN      10005     1-02-20              1005     Tais Fernandes   \n",
       "...          ...        ...         ...               ...                ...   \n",
       "3206         NaN     200807    12-28-20              1008    Teobaldo Junior   \n",
       "3207         NaN     200808    12-28-20              1008    Teobaldo Junior   \n",
       "3208         NaN     200809    12-29-20              1006       Mário Junior   \n",
       "3209         NaN     200810    12-30-20              1001        Maria Silva   \n",
       "3210         NaN     200811    12-31-20              1001        Maria Silva   \n",
       "\n",
       "      Regional ID_Produto       Nome_Produto Valor_Produto  \\\n",
       "0      Sudeste    SKU9005   Celular Modelo 3      \"R$\"1800   \n",
       "1      Sudeste    SKU9005   Celular Modelo 3      \"R$\"1800   \n",
       "2      Sudeste    SKU9011  Notebook Modelo 3      \"R$\"4300   \n",
       "3      Sudeste    SKU9011  Notebook Modelo 3      \"R$\"4300   \n",
       "4      Sudeste    SKU9008              Mouse        \"R$\"88   \n",
       "...        ...        ...                ...           ...   \n",
       "3206  Nordeste    SKU9012           Smart TV      \"R$\"1998   \n",
       "3207  Nordeste    SKU9015           Teclado         \"R$\"80   \n",
       "3208  Nordeste    SKU9005   Celular Modelo 3      \"R$\"1800   \n",
       "3209  Nordeste    SKU9006           E-Reader       \"R$\"250   \n",
       "3210  Nordeste    SKU9011  Notebook Modelo 3      \"R$\"4300   \n",
       "\n",
       "      Quantidade_Vendida Valor_Total_Venda    Nome_Cliente  Cidade_Cliente  \\\n",
       "0                     21         \"R$\"37800          amazon  Rio de Janeiro   \n",
       "1                     57        \"R$\"102600        Shoptime           Betim   \n",
       "2                     59        \"R$\"253700       Carrefour  Rio de Janeiro   \n",
       "3                     89        \"R$\"382700       Carrefour  Rio de Janeiro   \n",
       "4                     71          \"R$\"6248  Ricardo Eletro         Vitória   \n",
       "...                  ...               ...             ...             ...   \n",
       "3206                  11         \"R$\"21978          amazon        Salvador   \n",
       "3207                  20          \"R$\"1600      Ponto Frio        Salvador   \n",
       "3208                  71        \"R$\"127800           kabum       Fortaleza   \n",
       "3209                  51         \"R$\"12750     Casas Bahia     João Pessoa   \n",
       "3210                  41        \"R$\"176300     Casas Bahia           Natal   \n",
       "\n",
       "     Estado_Cliente  \n",
       "0                RJ  \n",
       "1             MINAS  \n",
       "2                RJ  \n",
       "3                RJ  \n",
       "4                ES  \n",
       "...             ...  \n",
       "3206             BA  \n",
       "3207             BA  \n",
       "3208             CE  \n",
       "3209             PB  \n",
       "3210             RN  \n",
       "\n",
       "[3211 rows x 14 columns]"
      ]
     },
     "execution_count": 116,
     "metadata": {},
     "output_type": "execute_result"
    }
   ],
   "source": [
    "df=pd.read_csv('Base_de_Dados.csv')\n",
    "df"
   ]
  },
  {
   "cell_type": "code",
   "execution_count": 117,
   "id": "023d8fae",
   "metadata": {},
   "outputs": [
    {
     "data": {
      "text/plain": [
       "Unnamed: 0            3211\n",
       "ID_Pedido                0\n",
       "Data_Pedido              0\n",
       "ID_Representante         0\n",
       "Nome_Representante       0\n",
       "Regional                 0\n",
       "ID_Produto               0\n",
       "Nome_Produto             0\n",
       "Valor_Produto            0\n",
       "Quantidade_Vendida       0\n",
       "Valor_Total_Venda        0\n",
       "Nome_Cliente             0\n",
       "Cidade_Cliente           0\n",
       "Estado_Cliente           0\n",
       "dtype: int64"
      ]
     },
     "execution_count": 117,
     "metadata": {},
     "output_type": "execute_result"
    }
   ],
   "source": [
    "df.isnull().sum()"
   ]
  },
  {
   "cell_type": "code",
   "execution_count": 118,
   "id": "4f68121c",
   "metadata": {
    "scrolled": true
   },
   "outputs": [
    {
     "data": {
      "text/plain": [
       "Unnamed: 0            3211\n",
       "ID_Pedido                0\n",
       "Data_Pedido              0\n",
       "ID_Representante         0\n",
       "Nome_Representante       0\n",
       "Regional                 0\n",
       "ID_Produto               0\n",
       "Nome_Produto             0\n",
       "Valor_Produto            0\n",
       "Quantidade_Vendida       0\n",
       "Valor_Total_Venda        0\n",
       "Nome_Cliente             0\n",
       "Cidade_Cliente           0\n",
       "Estado_Cliente           0\n",
       "dtype: int64"
      ]
     },
     "execution_count": 118,
     "metadata": {},
     "output_type": "execute_result"
    }
   ],
   "source": [
    "df.isnull().sum()"
   ]
  },
  {
   "cell_type": "code",
   "execution_count": 119,
   "id": "903c1365",
   "metadata": {
    "scrolled": true
   },
   "outputs": [
    {
     "data": {
      "text/html": [
       "<div>\n",
       "<style scoped>\n",
       "    .dataframe tbody tr th:only-of-type {\n",
       "        vertical-align: middle;\n",
       "    }\n",
       "\n",
       "    .dataframe tbody tr th {\n",
       "        vertical-align: top;\n",
       "    }\n",
       "\n",
       "    .dataframe thead th {\n",
       "        text-align: right;\n",
       "    }\n",
       "</style>\n",
       "<table border=\"1\" class=\"dataframe\">\n",
       "  <thead>\n",
       "    <tr style=\"text-align: right;\">\n",
       "      <th></th>\n",
       "      <th>Unnamed: 0</th>\n",
       "      <th>ID_Pedido</th>\n",
       "      <th>ID_Representante</th>\n",
       "      <th>Quantidade_Vendida</th>\n",
       "    </tr>\n",
       "  </thead>\n",
       "  <tbody>\n",
       "    <tr>\n",
       "      <th>count</th>\n",
       "      <td>0.0</td>\n",
       "      <td>3211.000000</td>\n",
       "      <td>3211.000000</td>\n",
       "      <td>3211.000000</td>\n",
       "    </tr>\n",
       "    <tr>\n",
       "      <th>mean</th>\n",
       "      <td>NaN</td>\n",
       "      <td>58987.999377</td>\n",
       "      <td>1004.882280</td>\n",
       "      <td>49.567736</td>\n",
       "    </tr>\n",
       "    <tr>\n",
       "      <th>std</th>\n",
       "      <td>NaN</td>\n",
       "      <td>82222.202857</td>\n",
       "      <td>2.782987</td>\n",
       "      <td>26.945682</td>\n",
       "    </tr>\n",
       "    <tr>\n",
       "      <th>min</th>\n",
       "      <td>NaN</td>\n",
       "      <td>10001.000000</td>\n",
       "      <td>1001.000000</td>\n",
       "      <td>5.000000</td>\n",
       "    </tr>\n",
       "    <tr>\n",
       "      <th>25%</th>\n",
       "      <td>NaN</td>\n",
       "      <td>10803.500000</td>\n",
       "      <td>1002.000000</td>\n",
       "      <td>26.000000</td>\n",
       "    </tr>\n",
       "    <tr>\n",
       "      <th>50%</th>\n",
       "      <td>NaN</td>\n",
       "      <td>11606.000000</td>\n",
       "      <td>1005.000000</td>\n",
       "      <td>49.000000</td>\n",
       "    </tr>\n",
       "    <tr>\n",
       "      <th>75%</th>\n",
       "      <td>NaN</td>\n",
       "      <td>200008.500000</td>\n",
       "      <td>1007.000000</td>\n",
       "      <td>72.000000</td>\n",
       "    </tr>\n",
       "    <tr>\n",
       "      <th>max</th>\n",
       "      <td>NaN</td>\n",
       "      <td>200811.000000</td>\n",
       "      <td>1009.000000</td>\n",
       "      <td>100.000000</td>\n",
       "    </tr>\n",
       "  </tbody>\n",
       "</table>\n",
       "</div>"
      ],
      "text/plain": [
       "       Unnamed: 0      ID_Pedido  ID_Representante  Quantidade_Vendida\n",
       "count         0.0    3211.000000       3211.000000         3211.000000\n",
       "mean          NaN   58987.999377       1004.882280           49.567736\n",
       "std           NaN   82222.202857          2.782987           26.945682\n",
       "min           NaN   10001.000000       1001.000000            5.000000\n",
       "25%           NaN   10803.500000       1002.000000           26.000000\n",
       "50%           NaN   11606.000000       1005.000000           49.000000\n",
       "75%           NaN  200008.500000       1007.000000           72.000000\n",
       "max           NaN  200811.000000       1009.000000          100.000000"
      ]
     },
     "execution_count": 119,
     "metadata": {},
     "output_type": "execute_result"
    }
   ],
   "source": [
    "df.describe()"
   ]
  },
  {
   "cell_type": "code",
   "execution_count": 120,
   "id": "b48fd682",
   "metadata": {},
   "outputs": [
    {
     "data": {
      "text/plain": [
       "(3211, 14)"
      ]
     },
     "execution_count": 120,
     "metadata": {},
     "output_type": "execute_result"
    }
   ],
   "source": [
    "df.shape"
   ]
  },
  {
   "cell_type": "code",
   "execution_count": 121,
   "id": "6db29232",
   "metadata": {
    "scrolled": false
   },
   "outputs": [
    {
     "data": {
      "text/plain": [
       "Index(['Unnamed: 0', 'ID_Pedido', 'Data_Pedido', 'ID_Representante',\n",
       "       'Nome_Representante', 'Regional', 'ID_Produto', 'Nome_Produto',\n",
       "       'Valor_Produto', 'Quantidade_Vendida', 'Valor_Total_Venda',\n",
       "       'Nome_Cliente', 'Cidade_Cliente', 'Estado_Cliente'],\n",
       "      dtype='object')"
      ]
     },
     "execution_count": 121,
     "metadata": {},
     "output_type": "execute_result"
    }
   ],
   "source": [
    "df.columns"
   ]
  },
  {
   "cell_type": "code",
   "execution_count": 122,
   "id": "7a47577f",
   "metadata": {},
   "outputs": [],
   "source": [
    "# Remover o símbolo \"R$\" e as aspas duplas e converter 'Valor_Total_Venda' para float\n",
    "df['Valor_Total_Venda'] = df['Valor_Total_Venda'].str.replace('R\\\\$', '', regex=True).str.replace('\"', '').astype(float)\n",
    "\n",
    "# Converter 'Data_Pedido' para datetime\n",
    "df['Data_Pedido'] = pd.to_datetime(df['Data_Pedido'], format='%m-%d-%y')"
   ]
  },
  {
   "cell_type": "code",
   "execution_count": 123,
   "id": "34fdb426",
   "metadata": {
    "scrolled": true
   },
   "outputs": [
    {
     "data": {
      "text/html": [
       "<div>\n",
       "<style scoped>\n",
       "    .dataframe tbody tr th:only-of-type {\n",
       "        vertical-align: middle;\n",
       "    }\n",
       "\n",
       "    .dataframe tbody tr th {\n",
       "        vertical-align: top;\n",
       "    }\n",
       "\n",
       "    .dataframe thead th {\n",
       "        text-align: right;\n",
       "    }\n",
       "</style>\n",
       "<table border=\"1\" class=\"dataframe\">\n",
       "  <thead>\n",
       "    <tr style=\"text-align: right;\">\n",
       "      <th></th>\n",
       "      <th>Unnamed: 0</th>\n",
       "      <th>ID_Pedido</th>\n",
       "      <th>Data_Pedido</th>\n",
       "      <th>ID_Representante</th>\n",
       "      <th>Nome_Representante</th>\n",
       "      <th>Regional</th>\n",
       "      <th>ID_Produto</th>\n",
       "      <th>Nome_Produto</th>\n",
       "      <th>Valor_Produto</th>\n",
       "      <th>Quantidade_Vendida</th>\n",
       "      <th>Valor_Total_Venda</th>\n",
       "      <th>Nome_Cliente</th>\n",
       "      <th>Cidade_Cliente</th>\n",
       "      <th>Estado_Cliente</th>\n",
       "    </tr>\n",
       "  </thead>\n",
       "  <tbody>\n",
       "    <tr>\n",
       "      <th>0</th>\n",
       "      <td>NaN</td>\n",
       "      <td>10001</td>\n",
       "      <td>2020-01-01</td>\n",
       "      <td>1004</td>\n",
       "      <td>Isabela Carolina</td>\n",
       "      <td>Sudeste</td>\n",
       "      <td>SKU9005</td>\n",
       "      <td>Celular Modelo 3</td>\n",
       "      <td>\"R$\"1800</td>\n",
       "      <td>21</td>\n",
       "      <td>37800.0</td>\n",
       "      <td>amazon</td>\n",
       "      <td>Rio de Janeiro</td>\n",
       "      <td>RJ</td>\n",
       "    </tr>\n",
       "    <tr>\n",
       "      <th>1</th>\n",
       "      <td>NaN</td>\n",
       "      <td>10002</td>\n",
       "      <td>2020-01-01</td>\n",
       "      <td>1004</td>\n",
       "      <td>Isabela Carolina</td>\n",
       "      <td>Sudeste</td>\n",
       "      <td>SKU9005</td>\n",
       "      <td>Celular Modelo 3</td>\n",
       "      <td>\"R$\"1800</td>\n",
       "      <td>57</td>\n",
       "      <td>102600.0</td>\n",
       "      <td>Shoptime</td>\n",
       "      <td>Betim</td>\n",
       "      <td>MINAS</td>\n",
       "    </tr>\n",
       "    <tr>\n",
       "      <th>2</th>\n",
       "      <td>NaN</td>\n",
       "      <td>10003</td>\n",
       "      <td>2020-01-02</td>\n",
       "      <td>1002</td>\n",
       "      <td>Lucas Souza</td>\n",
       "      <td>Sudeste</td>\n",
       "      <td>SKU9011</td>\n",
       "      <td>Notebook Modelo 3</td>\n",
       "      <td>\"R$\"4300</td>\n",
       "      <td>59</td>\n",
       "      <td>253700.0</td>\n",
       "      <td>Carrefour</td>\n",
       "      <td>Rio de Janeiro</td>\n",
       "      <td>RJ</td>\n",
       "    </tr>\n",
       "    <tr>\n",
       "      <th>3</th>\n",
       "      <td>NaN</td>\n",
       "      <td>10004</td>\n",
       "      <td>2020-01-02</td>\n",
       "      <td>1002</td>\n",
       "      <td>Lucas Souza</td>\n",
       "      <td>Sudeste</td>\n",
       "      <td>SKU9011</td>\n",
       "      <td>Notebook Modelo 3</td>\n",
       "      <td>\"R$\"4300</td>\n",
       "      <td>89</td>\n",
       "      <td>382700.0</td>\n",
       "      <td>Carrefour</td>\n",
       "      <td>Rio de Janeiro</td>\n",
       "      <td>RJ</td>\n",
       "    </tr>\n",
       "    <tr>\n",
       "      <th>4</th>\n",
       "      <td>NaN</td>\n",
       "      <td>10005</td>\n",
       "      <td>2020-01-02</td>\n",
       "      <td>1005</td>\n",
       "      <td>Tais Fernandes</td>\n",
       "      <td>Sudeste</td>\n",
       "      <td>SKU9008</td>\n",
       "      <td>Mouse</td>\n",
       "      <td>\"R$\"88</td>\n",
       "      <td>71</td>\n",
       "      <td>6248.0</td>\n",
       "      <td>Ricardo Eletro</td>\n",
       "      <td>Vitória</td>\n",
       "      <td>ES</td>\n",
       "    </tr>\n",
       "    <tr>\n",
       "      <th>...</th>\n",
       "      <td>...</td>\n",
       "      <td>...</td>\n",
       "      <td>...</td>\n",
       "      <td>...</td>\n",
       "      <td>...</td>\n",
       "      <td>...</td>\n",
       "      <td>...</td>\n",
       "      <td>...</td>\n",
       "      <td>...</td>\n",
       "      <td>...</td>\n",
       "      <td>...</td>\n",
       "      <td>...</td>\n",
       "      <td>...</td>\n",
       "      <td>...</td>\n",
       "    </tr>\n",
       "    <tr>\n",
       "      <th>3206</th>\n",
       "      <td>NaN</td>\n",
       "      <td>200807</td>\n",
       "      <td>2020-12-28</td>\n",
       "      <td>1008</td>\n",
       "      <td>Teobaldo Junior</td>\n",
       "      <td>Nordeste</td>\n",
       "      <td>SKU9012</td>\n",
       "      <td>Smart TV</td>\n",
       "      <td>\"R$\"1998</td>\n",
       "      <td>11</td>\n",
       "      <td>21978.0</td>\n",
       "      <td>amazon</td>\n",
       "      <td>Salvador</td>\n",
       "      <td>BA</td>\n",
       "    </tr>\n",
       "    <tr>\n",
       "      <th>3207</th>\n",
       "      <td>NaN</td>\n",
       "      <td>200808</td>\n",
       "      <td>2020-12-28</td>\n",
       "      <td>1008</td>\n",
       "      <td>Teobaldo Junior</td>\n",
       "      <td>Nordeste</td>\n",
       "      <td>SKU9015</td>\n",
       "      <td>Teclado</td>\n",
       "      <td>\"R$\"80</td>\n",
       "      <td>20</td>\n",
       "      <td>1600.0</td>\n",
       "      <td>Ponto Frio</td>\n",
       "      <td>Salvador</td>\n",
       "      <td>BA</td>\n",
       "    </tr>\n",
       "    <tr>\n",
       "      <th>3208</th>\n",
       "      <td>NaN</td>\n",
       "      <td>200809</td>\n",
       "      <td>2020-12-29</td>\n",
       "      <td>1006</td>\n",
       "      <td>Mário Junior</td>\n",
       "      <td>Nordeste</td>\n",
       "      <td>SKU9005</td>\n",
       "      <td>Celular Modelo 3</td>\n",
       "      <td>\"R$\"1800</td>\n",
       "      <td>71</td>\n",
       "      <td>127800.0</td>\n",
       "      <td>kabum</td>\n",
       "      <td>Fortaleza</td>\n",
       "      <td>CE</td>\n",
       "    </tr>\n",
       "    <tr>\n",
       "      <th>3209</th>\n",
       "      <td>NaN</td>\n",
       "      <td>200810</td>\n",
       "      <td>2020-12-30</td>\n",
       "      <td>1001</td>\n",
       "      <td>Maria Silva</td>\n",
       "      <td>Nordeste</td>\n",
       "      <td>SKU9006</td>\n",
       "      <td>E-Reader</td>\n",
       "      <td>\"R$\"250</td>\n",
       "      <td>51</td>\n",
       "      <td>12750.0</td>\n",
       "      <td>Casas Bahia</td>\n",
       "      <td>João Pessoa</td>\n",
       "      <td>PB</td>\n",
       "    </tr>\n",
       "    <tr>\n",
       "      <th>3210</th>\n",
       "      <td>NaN</td>\n",
       "      <td>200811</td>\n",
       "      <td>2020-12-31</td>\n",
       "      <td>1001</td>\n",
       "      <td>Maria Silva</td>\n",
       "      <td>Nordeste</td>\n",
       "      <td>SKU9011</td>\n",
       "      <td>Notebook Modelo 3</td>\n",
       "      <td>\"R$\"4300</td>\n",
       "      <td>41</td>\n",
       "      <td>176300.0</td>\n",
       "      <td>Casas Bahia</td>\n",
       "      <td>Natal</td>\n",
       "      <td>RN</td>\n",
       "    </tr>\n",
       "  </tbody>\n",
       "</table>\n",
       "<p>3211 rows × 14 columns</p>\n",
       "</div>"
      ],
      "text/plain": [
       "      Unnamed: 0  ID_Pedido Data_Pedido  ID_Representante Nome_Representante  \\\n",
       "0            NaN      10001  2020-01-01              1004   Isabela Carolina   \n",
       "1            NaN      10002  2020-01-01              1004   Isabela Carolina   \n",
       "2            NaN      10003  2020-01-02              1002        Lucas Souza   \n",
       "3            NaN      10004  2020-01-02              1002        Lucas Souza   \n",
       "4            NaN      10005  2020-01-02              1005     Tais Fernandes   \n",
       "...          ...        ...         ...               ...                ...   \n",
       "3206         NaN     200807  2020-12-28              1008    Teobaldo Junior   \n",
       "3207         NaN     200808  2020-12-28              1008    Teobaldo Junior   \n",
       "3208         NaN     200809  2020-12-29              1006       Mário Junior   \n",
       "3209         NaN     200810  2020-12-30              1001        Maria Silva   \n",
       "3210         NaN     200811  2020-12-31              1001        Maria Silva   \n",
       "\n",
       "      Regional ID_Produto       Nome_Produto Valor_Produto  \\\n",
       "0      Sudeste    SKU9005   Celular Modelo 3      \"R$\"1800   \n",
       "1      Sudeste    SKU9005   Celular Modelo 3      \"R$\"1800   \n",
       "2      Sudeste    SKU9011  Notebook Modelo 3      \"R$\"4300   \n",
       "3      Sudeste    SKU9011  Notebook Modelo 3      \"R$\"4300   \n",
       "4      Sudeste    SKU9008              Mouse        \"R$\"88   \n",
       "...        ...        ...                ...           ...   \n",
       "3206  Nordeste    SKU9012           Smart TV      \"R$\"1998   \n",
       "3207  Nordeste    SKU9015           Teclado         \"R$\"80   \n",
       "3208  Nordeste    SKU9005   Celular Modelo 3      \"R$\"1800   \n",
       "3209  Nordeste    SKU9006           E-Reader       \"R$\"250   \n",
       "3210  Nordeste    SKU9011  Notebook Modelo 3      \"R$\"4300   \n",
       "\n",
       "      Quantidade_Vendida  Valor_Total_Venda    Nome_Cliente  Cidade_Cliente  \\\n",
       "0                     21            37800.0          amazon  Rio de Janeiro   \n",
       "1                     57           102600.0        Shoptime           Betim   \n",
       "2                     59           253700.0       Carrefour  Rio de Janeiro   \n",
       "3                     89           382700.0       Carrefour  Rio de Janeiro   \n",
       "4                     71             6248.0  Ricardo Eletro         Vitória   \n",
       "...                  ...                ...             ...             ...   \n",
       "3206                  11            21978.0          amazon        Salvador   \n",
       "3207                  20             1600.0      Ponto Frio        Salvador   \n",
       "3208                  71           127800.0           kabum       Fortaleza   \n",
       "3209                  51            12750.0     Casas Bahia     João Pessoa   \n",
       "3210                  41           176300.0     Casas Bahia           Natal   \n",
       "\n",
       "     Estado_Cliente  \n",
       "0                RJ  \n",
       "1             MINAS  \n",
       "2                RJ  \n",
       "3                RJ  \n",
       "4                ES  \n",
       "...             ...  \n",
       "3206             BA  \n",
       "3207             BA  \n",
       "3208             CE  \n",
       "3209             PB  \n",
       "3210             RN  \n",
       "\n",
       "[3211 rows x 14 columns]"
      ]
     },
     "execution_count": 123,
     "metadata": {},
     "output_type": "execute_result"
    }
   ],
   "source": [
    "df"
   ]
  },
  {
   "cell_type": "code",
   "execution_count": 125,
   "id": "b06e58c5",
   "metadata": {},
   "outputs": [
    {
     "name": "stdout",
     "output_type": "stream",
     "text": [
      "Index(['Unnamed: 0', 'ID_Pedido', 'Data_Pedido', 'ID_Representante',\n",
      "       'Nome_Representante', 'Regional', 'ID_Produto', 'Nome_Produto',\n",
      "       'Valor_Produto', 'Quantidade_Vendida', 'Valor_Total_Venda',\n",
      "       'Nome_Cliente', 'Cidade_Cliente', 'Estado_Cliente'],\n",
      "      dtype='object')\n"
     ]
    }
   ],
   "source": [
    "print(df.columns)"
   ]
  },
  {
   "cell_type": "code",
   "execution_count": 127,
   "id": "c40462b4",
   "metadata": {},
   "outputs": [
    {
     "data": {
      "image/png": "[encoded data removed]",
      "text/plain": [
       "<Figure size 576x432 with 1 Axes>"
      ]
     },
     "metadata": {
      "needs_background": "light"
     },
     "output_type": "display_data"
    }
   ],
   "source": [
    "# Converter 'Data_Pedido' para datetime\n",
    "df['Data_Pedido'] = pd.to_datetime(df['Data_Pedido'], format='%m-%d-%y')\n",
    "\n",
    "# Agora você pode tentar plotar o gráfico novamente\n",
    "df.groupby(df['Data_Pedido'].dt.month)['Valor_Total_Venda'].sum().plot(kind='line', figsize=(8,6))\n",
    "plt.xlabel('Mês',fontsize=15)\n",
    "plt.ylabel('Total de Vendas',fontsize=15)\n",
    "plt.title('Total de Vendas por Mês')\n",
    "plt.show()\n"
   ]
  },
  {
   "cell_type": "code",
   "execution_count": 128,
   "id": "c52a7ef0",
   "metadata": {
    "scrolled": true
   },
   "outputs": [
    {
     "data": {
      "image/png": "[encoded data removed]",
      "text/plain": [
       "<Figure size 720x432 with 1 Axes>"
      ]
     },
     "metadata": {
      "needs_background": "light"
     },
     "output_type": "display_data"
    }
   ],
   "source": [
    "# Total de Vendas por Representante\n",
    "plt.figure(figsize=(10,6))\n",
    "sns.barplot(x='Nome_Representante', y='Valor_Total_Venda', data=df, estimator=sum)\n",
    "plt.xlabel('Representante',fontsize=15)\n",
    "plt.ylabel('Total de Vendas',fontsize=15)\n",
    "plt.title('Total de Vendas por Representante')\n",
    "plt.show()"
   ]
  },
  {
   "cell_type": "code",
   "execution_count": 129,
   "id": "9de9851a",
   "metadata": {},
   "outputs": [
    {
     "name": "stdout",
     "output_type": "stream",
     "text": [
      "Nome_Produto\n",
      "Caixa de Som             355465.0\n",
      "Carregador Portátil     1055920.0\n",
      "Celular Modelo 1       11129600.0\n",
      "Celular Modelo 2       13245600.0\n",
      "Celular Modelo 3       21058200.0\n",
      "E-Reader                2554500.0\n",
      "Headphone               1413600.0\n",
      "Mouse                    826672.0\n",
      "Notebook Modelo 1      17326050.0\n",
      "Notebook Modelo 2      22339860.0\n",
      "Notebook Modelo 3      50082100.0\n",
      "SSD                     2539095.0\n",
      "Smart TV               14581404.0\n",
      "Tablet                 17554200.0\n",
      "Teclado                  732480.0\n",
      "Webcam                   980070.0\n",
      "Name: Valor_Total_Venda, dtype: float64\n"
     ]
    }
   ],
   "source": [
    "# Total de Vendas por Produto\n",
    "total_vendas_produto = df.groupby('Nome_Produto')['Valor_Total_Venda'].sum()\n",
    "print(total_vendas_produto)"
   ]
  },
  {
   "cell_type": "code",
   "execution_count": 130,
   "id": "c61cade1",
   "metadata": {},
   "outputs": [
    {
     "data": {
      "image/png": "[encoded data removed]",
      "text/plain": [
       "<Figure size 576x432 with 1 Axes>"
      ]
     },
     "metadata": {},
     "output_type": "display_data"
    }
   ],
   "source": [
    "# Total de Vendas por Regional\n",
    "df.groupby('Regional')['Valor_Total_Venda'].sum().plot(kind='pie', figsize=(8,6), autopct='%1.1f%%')\n",
    "plt.ylabel('')\n",
    "plt.title('Total de Vendas por Regional')\n",
    "plt.show()"
   ]
  },
  {
   "cell_type": "code",
   "execution_count": 131,
   "id": "aed285c7",
   "metadata": {},
   "outputs": [
    {
     "data": {
      "image/png": "[encoded data removed]",
      "text/plain": [
       "<Figure size 720x432 with 1 Axes>"
      ]
     },
     "metadata": {
      "needs_background": "light"
     },
     "output_type": "display_data"
    }
   ],
   "source": [
    "# Total de Vendas por Estado\n",
    "plt.figure(figsize=(10,6))\n",
    "sns.barplot(x='Estado_Cliente', y='Valor_Total_Venda', data=df, estimator=sum)\n",
    "plt.xlabel('Estado',fontsize=15)\n",
    "plt.ylabel('Total de Vendas',fontsize=15)\n",
    "plt.title('Total de Vendas por Estado')\n",
    "plt.show()"
   ]
  },
  {
   "cell_type": "code",
   "execution_count": null,
   "id": "be06a0f1",
   "metadata": {},
   "outputs": [],
   "source": []
  },
  {
   "cell_type": "code",
   "execution_count": null,
   "id": "6e312651",
   "metadata": {},
   "outputs": [],
   "source": []
  },
  {
   "cell_type": "code",
   "execution_count": null,
   "id": "a93cc578",
   "metadata": {},
   "outputs": [],
   "source": []
  },
  {
   "cell_type": "code",
   "execution_count": null,
   "id": "7a366092",
   "metadata": {},
   "outputs": [],
   "source": []
  },
  {
   "cell_type": "code",
   "execution_count": 132,
   "id": "41c027c1",
   "metadata": {},
   "outputs": [],
   "source": [
    "#passo 2"
   ]
  },
  {
   "cell_type": "code",
   "execution_count": 138,
   "id": "61552d82",
   "metadata": {},
   "outputs": [
    {
     "data": {
      "image/png": "[encoded data removed]",
      "text/plain": [
       "<Figure size 864x432 with 1 Axes>"
      ]
     },
     "metadata": {
      "needs_background": "light"
     },
     "output_type": "display_data"
    }
   ],
   "source": [
    "# Criar uma tabela dinâmica para calcular o total de vendas por mês e por regional\n",
    "pivot_table = df.pivot_table(index='Regional', columns=df['Data_Pedido'].dt.strftime('%B'), values='Valor_Total_Venda', aggfunc='sum')\n",
    "\n",
    "# Plotar o gráfico de linhas\n",
    "pivot_table.T.plot(kind='line', marker='o', figsize=(12, 6))\n",
    "plt.xlabel('Mês', fontsize=12)\n",
    "plt.ylabel('Total de Vendas', fontsize=12)\n",
    "plt.title('Total de Vendas por Mês e Regional', fontsize=14)\n",
    "plt.legend(title='Regional', bbox_to_anchor=(1.05, 1), loc='upper left')\n",
    "plt.xticks(rotation=45)\n",
    "plt.grid(True)\n",
    "plt.show()\n"
   ]
  },
  {
   "cell_type": "code",
   "execution_count": 139,
   "id": "4739fbb7",
   "metadata": {},
   "outputs": [
    {
     "data": {
      "image/png": "[encoded data removed]",
      "text/plain": [
       "<Figure size 864x432 with 1 Axes>"
      ]
     },
     "metadata": {
      "needs_background": "light"
     },
     "output_type": "display_data"
    }
   ],
   "source": [
    "# Criar uma tabela dinâmica para calcular o total de vendas por mês e por produto\n",
    "pivot_table = df.pivot_table(index='Nome_Produto', columns=df['Data_Pedido'].dt.strftime('%B'), values='Valor_Total_Venda', aggfunc='sum')\n",
    "\n",
    "# Plotar o gráfico de barras agrupado\n",
    "pivot_table.plot(kind='bar', figsize=(12, 6))\n",
    "plt.xlabel('Produto', fontsize=12)\n",
    "plt.ylabel('Total de Vendas', fontsize=12)\n",
    "plt.title('Total de Vendas por Produto e Mês', fontsize=14)\n",
    "plt.legend(title='Mês', bbox_to_anchor=(1.05, 1), loc='upper left')\n",
    "plt.xticks(rotation=45)\n",
    "plt.grid(True)\n",
    "plt.show()"
   ]
  },
  {
   "cell_type": "code",
   "execution_count": 141,
   "id": "cc3f7050",
   "metadata": {},
   "outputs": [
    {
     "data": {
      "text/html": [
       "\n",
       "        <iframe\n",
       "            width=\"100%\"\n",
       "            height=\"650\"\n",
       "            src=\"http://127.0.0.1:8050/\"\n",
       "            frameborder=\"0\"\n",
       "            allowfullscreen\n",
       "            \n",
       "        ></iframe>\n",
       "        "
      ],
      "text/plain": [
       "<IPython.lib.display.IFrame at 0x1a130122c40>"
      ]
     },
     "metadata": {},
     "output_type": "display_data"
    }
   ],
   "source": [
    "import dash\n",
    "from dash import dcc, html, Input, Output\n",
    "import pandas as pd\n",
    "import plotly.express as px\n",
    "\n",
    "# Supondo que você já tenha o DataFrame df com os dados\n",
    "# Obter a lista única de produtos\n",
    "produtos = df['Nome_Produto'].unique()\n",
    "\n",
    "# Inicializar o aplicativo Dash\n",
    "app = dash.Dash(__name__)\n",
    "\n",
    "# Layout do aplicativo\n",
    "app.layout = html.Div([\n",
    "    html.H1(\"Total de Vendas por Produto e Mês\"),\n",
    "    html.Label(\"Selecione o produto:\"),\n",
    "    dcc.Dropdown(\n",
    "        id='dropdown-produto',\n",
    "        options=[{'label': produto, 'value': produto} for produto in produtos],\n",
    "        value=produtos[0]  # Valor padrão selecionado\n",
    "    ),\n",
    "    dcc.Graph(id='graph-vendas')\n",
    "])\n",
    "\n",
    "# Callback para atualizar o gráfico com base no produto selecionado\n",
    "@app.callback(\n",
    "    Output('graph-vendas', 'figure'),\n",
    "    [Input('dropdown-produto', 'value')]\n",
    ")\n",
    "def update_graph(produto):\n",
    "    # Filtrar o DataFrame para o produto selecionado\n",
    "    df_produto = df[df['Nome_Produto'] == produto]\n",
    "    \n",
    "    # Criar uma tabela dinâmica para calcular o total de vendas por mês\n",
    "    pivot_table = df_produto.pivot_table(index=df_produto['Data_Pedido'].dt.strftime('%B'), values='Valor_Total_Venda', aggfunc='sum').reset_index()\n",
    "    \n",
    "    # Plotar o gráfico de barras usando Plotly Express\n",
    "    fig = px.bar(pivot_table, x='Data_Pedido', y='Valor_Total_Venda', title=f'Total de Vendas de {produto} por Mês', labels={'Valor_Total_Venda': 'Total de Vendas', 'Data_Pedido': 'Mês'})\n",
    "    return fig\n",
    "\n",
    "# Executar o aplicativo Dash\n",
    "if __name__ == '__main__':\n",
    "    app.run_server(debug=True)\n"
   ]
  },
  {
   "cell_type": "code",
   "execution_count": null,
   "id": "4d93c520",
   "metadata": {},
   "outputs": [],
   "source": []
  },
  {
   "cell_type": "code",
   "execution_count": null,
   "id": "cff13bd3",
   "metadata": {},
   "outputs": [],
   "source": []
  },
  {
   "cell_type": "code",
   "execution_count": null,
   "id": "977a9b85",
   "metadata": {},
   "outputs": [],
   "source": []
  },
  {
   "cell_type": "code",
   "execution_count": null,
   "id": "8e141f3c",
   "metadata": {},
   "outputs": [],
   "source": []
  },
  {
   "cell_type": "code",
   "execution_count": 136,
   "id": "f12251a8",
   "metadata": {},
   "outputs": [
    {
     "data": {
      "application/vnd.jupyter.widget-view+json": {
       "model_id": "8fed450345ab4236b7df0f15a3cc2cb8",
       "version_major": 2,
       "version_minor": 0
      },
      "text/plain": [
       "Dropdown(description='Estado:', options=('RJ', 'MINAS', 'ES', 'SP', 'BA', 'RN', 'CE', 'PB'), value='RJ')"
      ]
     },
     "metadata": {},
     "output_type": "display_data"
    },
    {
     "data": {
      "application/vnd.jupyter.widget-view+json": {
       "model_id": "6e6a6e86496c478e8c3fc1bfa3ab0dcb",
       "version_major": 2,
       "version_minor": 0
      },
      "text/plain": [
       "Dropdown(description='Cidade:', options=(), value=None)"
      ]
     },
     "metadata": {},
     "output_type": "display_data"
    }
   ],
   "source": [
    "# Crie um dropdown para os estados\n",
    "estado_dropdown = widgets.Dropdown(\n",
    "    options=df['Estado_Cliente'].unique(),\n",
    "    description='Estado:'\n",
    ")\n",
    "\n",
    "# Crie um segundo dropdown para as cidades\n",
    "cidade_dropdown = widgets.Dropdown(\n",
    "    description='Cidade:'\n",
    ")\n",
    "\n",
    "# Função para atualizar as opções do segundo dropdown com base no estado selecionado\n",
    "def update_cidades(*args):\n",
    "    estado_selecionado = estado_dropdown.value\n",
    "    cidades = df[df['Estado_Cliente'] == estado_selecionado]['Cidade_Cliente'].unique()\n",
    "    cidade_dropdown.options = cidades\n",
    "\n",
    "# Atualize as opções do segundo dropdown sempre que o valor do primeiro dropdown mudar\n",
    "estado_dropdown.observe(update_cidades, 'value')\n",
    "\n",
    "# Exiba os dropdowns\n",
    "display(estado_dropdown, cidade_dropdown)\n"
   ]
  },
  {
   "cell_type": "code",
   "execution_count": null,
   "id": "417a6288",
   "metadata": {},
   "outputs": [],
   "source": []
  },
  {
   "cell_type": "code",
   "execution_count": null,
   "id": "df61248b",
   "metadata": {},
   "outputs": [],
   "source": []
  },
  {
   "cell_type": "code",
   "execution_count": null,
   "id": "b4b01ed8",
   "metadata": {},
   "outputs": [],
   "source": []
  },
  {
   "cell_type": "code",
   "execution_count": null,
   "id": "22476359",
   "metadata": {},
   "outputs": [],
   "source": []
  },
  {
   "cell_type": "code",
   "execution_count": null,
   "id": "eadd77e5",
   "metadata": {},
   "outputs": [],
   "source": []
  },
  {
   "cell_type": "code",
   "execution_count": null,
   "id": "ff2a63d8",
   "metadata": {},
   "outputs": [],
   "source": []
  }
 ],
 "metadata": {
  "kernelspec": {
   "display_name": "Python 3 (ipykernel)",
   "language": "python",
   "name": "python3"
  },
  "language_info": {
   "codemirror_mode": {
    "name": "ipython",
    "version": 3
   },
   "file_extension": ".py",
   "mimetype": "text/x-python",
   "name": "python",
   "nbconvert_exporter": "python",
   "pygments_lexer": "ipython3",
   "version": "3.9.7"
  }
 },
 "nbformat": 4,
 "nbformat_minor": 5
}
